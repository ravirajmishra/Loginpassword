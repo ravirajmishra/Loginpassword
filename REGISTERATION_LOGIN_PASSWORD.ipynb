{
  "nbformat": 4,
  "nbformat_minor": 0,
  "metadata": {
    "colab": {
      "provenance": []
    },
    "kernelspec": {
      "name": "python3",
      "display_name": "Python 3"
    },
    "language_info": {
      "name": "python"
    }
  },
  "cells": [
    {
      "cell_type": "code",
      "execution_count": 1,
      "metadata": {
        "colab": {
          "base_uri": "https://localhost:8080/"
        },
        "id": "EsNYmUIqB0XO",
        "outputId": "2eac7e45-2065-4256-dc9d-0fc1b9073c17"
      },
      "outputs": [
        {
          "name": "stdout",
          "output_type": "stream",
          "text": [
            "1. Register\n",
            "2. Login\n",
            "3. Forgot password\n",
            "4. Quit\n",
            "Enter choice: 1\n",
            "Enter email/username: ravirajmishra123@gmail.com\n",
            "Enter password: Ravi@789\n",
            "Registration successful\n",
            "1. Register\n",
            "2. Login\n",
            "3. Forgot password\n",
            "4. Quit\n",
            "Enter choice: 2\n",
            "Enter email/username: ravi123@gmail.com\n",
            "Enter password: Ravi@789\n",
            "User not found\n",
            "1. Register\n",
            "2. Login\n",
            "3. Forgot password\n",
            "4. Quit\n",
            "Enter choice: 4\n"
          ]
        }
      ],
      "source": [
        "import re\n",
        "\n",
        "# function to validate email/username\n",
        "def validate_email(email):\n",
        "    pattern = r'^[a-zA-Z0-9._%+-]+@[a-zA-Z0-9.-]+\\.[a-zA-Z]{2,}$'\n",
        "    return re.match(pattern, email)\n",
        "\n",
        "# function to validate password\n",
        "def validate_password(password):\n",
        "    if len(password) < 5 or len(password) > 16:\n",
        "        return False\n",
        "    if not re.search(r'[A-Z]', password):\n",
        "        return False\n",
        "    if not re.search(r'[a-z]', password):\n",
        "        return False\n",
        "    if not re.search(r'\\d', password):\n",
        "        return False\n",
        "    if not re.search(r'[!@#$%^&*(),.?\":{}|<>]', password):\n",
        "        return False\n",
        "    return True\n",
        "\n",
        "# function to register a new user\n",
        "def register():\n",
        "    email = input(\"Enter email/username: \")\n",
        "    if not validate_email(email):\n",
        "        print(\"Invalid email/username format\")\n",
        "        return\n",
        "    password = input(\"Enter password: \")\n",
        "    if not validate_password(password):\n",
        "        print(\"Invalid password format\")\n",
        "        return\n",
        "    with open(\"users.txt\", \"a\") as file:\n",
        "        file.write(f\"{email}:{password}\\n\")\n",
        "    print(\"Registration successful\")\n",
        "\n",
        "# function to retrieve password for a user\n",
        "def forgot_password():\n",
        "    email = input(\"Enter email/username: \")\n",
        "    with open(\"users.txt\", \"r\") as file:\n",
        "        for line in file:\n",
        "            if line.startswith(email + \":\"):\n",
        "                _, password = line.strip().split(\":\")\n",
        "                print(f\"Your password is {password}\")\n",
        "                return\n",
        "    print(\"User not found\")\n",
        "\n",
        "# function to log in a user\n",
        "def login():\n",
        "    email = input(\"Enter email/username: \")\n",
        "    password = input(\"Enter password: \")\n",
        "    with open(\"users.txt\", \"r\") as file:\n",
        "        for line in file:\n",
        "            if line.startswith(email + \":\"):\n",
        "                _, correct_password = line.strip().split(\":\")\n",
        "                if password == correct_password:\n",
        "                    print(\"Login successful\")\n",
        "                    return\n",
        "                else:\n",
        "                    print(\"Incorrect password\")\n",
        "                    return\n",
        "    print(\"User not found\")\n",
        "\n",
        "# main loop\n",
        "while True:\n",
        "    print(\"1. Register\\n2. Login\\n3. Forgot password\\n4. Quit\")\n",
        "    choice = input(\"Enter choice: \")\n",
        "    if choice == \"1\":\n",
        "        register()\n",
        "    elif choice == \"2\":\n",
        "        login()\n",
        "    elif choice == \"3\":\n",
        "        forgot_password()\n",
        "    elif choice == \"4\":\n",
        "        break\n",
        "    else:\n",
        "        print(\"Invalid choice\")\n"
      ]
    }
  ]
}